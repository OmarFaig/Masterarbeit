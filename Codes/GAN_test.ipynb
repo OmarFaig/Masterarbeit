{
 "cells": [
  {
   "cell_type": "code",
   "execution_count": 1,
   "id": "initial_id",
   "metadata": {
    "collapsed": true,
    "ExecuteTime": {
     "end_time": "2024-01-28T15:13:22.955383780Z",
     "start_time": "2024-01-28T15:13:19.757532542Z"
    }
   },
   "outputs": [
    {
     "name": "stdout",
     "output_type": "stream",
     "text": [
      "Jupyter environment detected. Enabling Open3D WebVisualizer.\n",
      "[Open3D INFO] WebRTC GUI backend enabled.\n",
      "[Open3D INFO] WebRTCWindowSystem: HTTP handshake server disabled.\n"
     ]
    }
   ],
   "source": [
    "import numpy as np\n",
    "import torch\n",
    "import numpy\n",
    "import laspy\n",
    "import open3d as o3d\n",
    "import utils.utils as utils\n",
    "import os\n",
    "import torchvision"
   ]
  },
  {
   "cell_type": "code",
   "execution_count": 2,
   "outputs": [
    {
     "name": "stdout",
     "output_type": "stream",
     "text": [
      "2.1.0+cu121\n",
      "0.16.0+cu121\n"
     ]
    }
   ],
   "source": [
    "print(torch.__version__)\n",
    "print(torchvision.__version__)\n"
   ],
   "metadata": {
    "collapsed": false,
    "ExecuteTime": {
     "end_time": "2024-01-28T15:13:22.959092639Z",
     "start_time": "2024-01-28T15:13:22.954187980Z"
    }
   },
   "id": "da1bd40c1ec6d06c"
  },
  {
   "cell_type": "code",
   "execution_count": 4,
   "outputs": [
    {
     "name": "stdout",
     "output_type": "stream",
     "text": [
      "\u001B[1;33m[Open3D WARNING] Write PCD failed: unable to generate header.\u001B[0;m\n",
      "\u001B[1;33m[Open3D WARNING] Write PCD failed: unable to generate header.\u001B[0;m\n",
      "\u001B[1;33m[Open3D WARNING] Write PCD failed: unable to generate header.\u001B[0;m\n",
      "\u001B[1;33m[Open3D WARNING] Write PCD failed: unable to generate header.\u001B[0;m\n",
      "\u001B[1;33m[Open3D WARNING] Write PCD failed: unable to generate header.\u001B[0;m\n",
      "\u001B[1;33m[Open3D WARNING] Write PCD failed: unable to generate header.\u001B[0;m\n",
      "\u001B[1;33m[Open3D WARNING] Write PCD failed: unable to generate header.\u001B[0;m\n"
     ]
    }
   ],
   "source": [
    "source_data_path  = \"/home/omar/TUM/Masterarbeit/Data/m1695833/Sim2RealDistributionAlignedDataset/real/data/pcl/\"\n",
    "#source_data_path  = \"/home/omar/TUM/Masterarbeit/Data/m1695833/Sim2RealDistributionAlignedDataset/sim/data/pcl/\"\n",
    "#source_label_path = \"/home/omar/TUM/Masterarbeit/Data/m1695833/Sim2RealDistributionAlignedDataset/sim/data/label/\"\n",
    "\n",
    "source_label_path = \"/home/omar/TUM/Masterarbeit/Data/m1695833/Sim2RealDistributionAlignedDataset/real/data/label/\"\n",
    "#save_data_path    = \"/home/omar/TUM/Masterarbeit/Data/combined/sim/\"\n",
    "save_data_path    = \"/home/omar/TUM/Masterarbeit/Data/cropped/real/\"\n",
    "\n",
    "file_list=[]\n",
    "for filename_label in os.listdir(source_label_path):\n",
    "        file_list.append(filename_label)\n",
    "        text_file     = open(source_label_path+filename_label,\"r\")\n",
    "        label_data    = text_file.read().split()\n",
    "        pcd_file      = filename_label.replace('.txt',\".pcd\") #replace the endings\n",
    "        pcd_file_path = source_data_path+pcd_file\n",
    "        pcd=o3d.io.read_point_cloud(pcd_file_path)\n",
    "        \n",
    "        utils.crop_bbox(pcd,label_data,save_data_path+pcd_file)\n",
    "        print(\"tt\")"
   ],
   "metadata": {
    "collapsed": false,
    "ExecuteTime": {
     "end_time": "2023-11-30T11:39:44.085525544Z",
     "start_time": "2023-11-30T11:39:01.824909080Z"
    }
   },
   "id": "3f8075743fa11b8f"
  },
  {
   "cell_type": "code",
   "execution_count": 3,
   "outputs": [
    {
     "name": "stdout",
     "output_type": "stream",
     "text": [
      "0.2\n"
     ]
    }
   ],
   "source": [
    "box=[\"Car\" ,0.0 ,0 ,0.0 ,0.0 ,0.0 ,0.0 ,0.0, 1.18, 1.9, 4.88, 40.69 ,5.82, 1.31 ,0.2]\n",
    "print(box[-1])"
   ],
   "metadata": {
    "collapsed": false,
    "ExecuteTime": {
     "end_time": "2023-11-30T10:56:12.572963319Z",
     "start_time": "2023-11-30T10:56:12.564840366Z"
    }
   },
   "id": "a3c571fdd624ce58"
  },
  {
   "cell_type": "code",
   "execution_count": 5,
   "outputs": [
    {
     "ename": "AttributeError",
     "evalue": "'open3d.cpu.pybind.utility.Vector3dVector' object has no attribute 'shape'",
     "output_type": "error",
     "traceback": [
      "\u001B[0;31m---------------------------------------------------------------------------\u001B[0m",
      "\u001B[0;31mAttributeError\u001B[0m                            Traceback (most recent call last)",
      "Cell \u001B[0;32mIn[5], line 3\u001B[0m\n\u001B[1;32m      1\u001B[0m \u001B[38;5;66;03m#pcd=o3d.io.read_point_cloud(\"/home/omar/TUM/Masterarbeit/Data/combined/sim/000375.pcd\")\u001B[39;00m\n\u001B[1;32m      2\u001B[0m pcd\u001B[38;5;241m=\u001B[39mo3d\u001B[38;5;241m.\u001B[39mio\u001B[38;5;241m.\u001B[39mread_point_cloud(\u001B[38;5;124m\"\u001B[39m\u001B[38;5;124m/home/omar/TUM/Data/cropped/sim/000015.pcd\u001B[39m\u001B[38;5;124m\"\u001B[39m)\n\u001B[0;32m----> 3\u001B[0m \u001B[38;5;28mprint\u001B[39m(\u001B[43mpcd\u001B[49m\u001B[38;5;241;43m.\u001B[39;49m\u001B[43mpoints\u001B[49m\u001B[38;5;241;43m.\u001B[39;49m\u001B[43mshape\u001B[49m())\n\u001B[1;32m      4\u001B[0m \u001B[38;5;66;03m#utils.visualize(pcd)\u001B[39;00m\n",
      "\u001B[0;31mAttributeError\u001B[0m: 'open3d.cpu.pybind.utility.Vector3dVector' object has no attribute 'shape'"
     ]
    }
   ],
   "source": [
    "#pcd=o3d.io.read_point_cloud(\"/home/omar/TUM/Masterarbeit/Data/combined/sim/000375.pcd\")\n",
    "pcd=o3d.io.read_point_cloud(\"/home/omar/TUM/Data/cropped/sim/000015.pcd\")\n",
    "print(pcd.points)\n",
    "#utils.visualize(pcd)"
   ],
   "metadata": {
    "collapsed": false,
    "ExecuteTime": {
     "end_time": "2024-01-28T15:14:29.261556891Z",
     "start_time": "2024-01-28T15:14:29.091577256Z"
    }
   },
   "id": "219317eef5821527"
  },
  {
   "cell_type": "code",
   "execution_count": 4,
   "outputs": [
    {
     "name": "stdout",
     "output_type": "stream",
     "text": [
      "\u001B[1;33m[Open3D WARNING] Read PCD failed: unable to open file: /home/omar/TUM/Masterarbeit/Data/cropped/real/024490.pcd\u001B[0;m\n"
     ]
    }
   ],
   "source": [
    "#cropped_car=o3d.io.read_point_cloud(\"/home/omar/TUM/Masterarbeit/Data/cropped/sim/024490.pcd\")\n",
    "cropped_car=o3d.io.read_point_cloud(\"/home/omar/TUM/Masterarbeit/Data/cropped/real/024490.pcd\")\n",
    "utils.visualize(cropped_car)"
   ],
   "metadata": {
    "collapsed": false,
    "ExecuteTime": {
     "end_time": "2024-01-23T19:48:39.863918763Z",
     "start_time": "2024-01-23T19:48:36.341961709Z"
    }
   },
   "id": "cc8162de472a2c72"
  },
  {
   "cell_type": "code",
   "execution_count": 39,
   "outputs": [],
   "source": [
    "#make json file and use it for cropping\n",
    "crop_json=\"/home/omar/TUM/Masterarbeit/Codes/cropped_1.json\"\n",
    "vol = o3d.visualization.read_selection_polygon_volume(crop_json)\n",
    "cropped = vol.crop_point_cloud(real_pcd)\n",
    "o3d.visualization.draw_geometries([cropped])"
   ],
   "metadata": {
    "collapsed": false,
    "ExecuteTime": {
     "end_time": "2023-11-23T14:22:34.279304261Z",
     "start_time": "2023-11-23T14:22:34.273826034Z"
    }
   },
   "id": "e9161960e4e53c3f"
  },
  {
   "cell_type": "code",
   "execution_count": 40,
   "outputs": [
    {
     "name": "stdout",
     "output_type": "stream",
     "text": [
      "/home/omar/TUM/Masterarbeit/Codes/cropped_1.json\n"
     ]
    }
   ],
   "source": [
    "utils.visualize(cropped)\n",
    "print(crop_json)"
   ],
   "metadata": {
    "collapsed": false,
    "ExecuteTime": {
     "end_time": "2023-11-23T14:22:38.537997467Z",
     "start_time": "2023-11-23T14:22:38.535703157Z"
    }
   },
   "id": "88f31e348cea384"
  },
  {
   "cell_type": "code",
   "execution_count": 7,
   "outputs": [
    {
     "ename": "AttributeError",
     "evalue": "'open3d.cuda.pybind.visualization.Visualizer' object has no attribute 'get_picked_points'",
     "output_type": "error",
     "traceback": [
      "\u001B[0;31m---------------------------------------------------------------------------\u001B[0m",
      "\u001B[0;31mAttributeError\u001B[0m                            Traceback (most recent call last)",
      "Cell \u001B[0;32mIn[7], line 12\u001B[0m\n\u001B[1;32m     10\u001B[0m vis\u001B[38;5;241m.\u001B[39mrun()  \u001B[38;5;66;03m# user picks points\u001B[39;00m\n\u001B[1;32m     11\u001B[0m vis\u001B[38;5;241m.\u001B[39mdestroy_window()\n\u001B[0;32m---> 12\u001B[0m picked_points \u001B[38;5;241m=\u001B[39m np\u001B[38;5;241m.\u001B[39masarray(real_pcd\u001B[38;5;241m.\u001B[39mpoints)[\u001B[43mvis\u001B[49m\u001B[38;5;241;43m.\u001B[39;49m\u001B[43mget_picked_points\u001B[49m()]\n",
      "\u001B[0;31mAttributeError\u001B[0m: 'open3d.cuda.pybind.visualization.Visualizer' object has no attribute 'get_picked_points'"
     ]
    }
   ],
   "source": [
    "#vis = o3d.visualization.VisualizerWithEditing()\n",
    "vis = o3d.visualization.Visualizer()\n",
    "\n",
    "aligned_bb = o3d.geometry.AxisAlignedBoundingBox(np.array([-29.67,72.05,10.12]), np.array([1.18,1.9,4.88])) \n",
    "bb = o3d.geometry.OrientedBoundingBox.create_from_axis_aligned_bounding_box(aligned_bb) \n",
    "bb.color = [1, 0, 0] \n",
    "vis.create_window()\n",
    "vis.add_geometry(real_pcd)\n",
    "vis.add_geometry(bb) \n",
    "vis.run()  # user picks points\n",
    "vis.destroy_window()\n",
    "picked_points = np.asarray(real_pcd.points)[vis.get_picked_points()]\n"
   ],
   "metadata": {
    "collapsed": false,
    "ExecuteTime": {
     "end_time": "2023-11-25T20:25:33.275887671Z",
     "start_time": "2023-11-25T20:24:54.661513734Z"
    }
   },
   "id": "5a53e29e9f13848b"
  },
  {
   "cell_type": "code",
   "execution_count": 7,
   "outputs": [
    {
     "name": "stdout",
     "output_type": "stream",
     "text": [
      "[]\n"
     ]
    }
   ],
   "source": [
    "print (picked_points)"
   ],
   "metadata": {
    "collapsed": false,
    "ExecuteTime": {
     "end_time": "2023-11-23T12:11:07.377213959Z",
     "start_time": "2023-11-23T12:11:07.370895779Z"
    }
   },
   "id": "52a3d74b9703357f"
  },
  {
   "cell_type": "code",
   "execution_count": null,
   "outputs": [],
   "source": [],
   "metadata": {
    "collapsed": false
   },
   "id": "e52c23af30d505f4"
  },
  {
   "cell_type": "code",
   "execution_count": 17,
   "outputs": [],
   "source": [],
   "metadata": {
    "collapsed": false,
    "ExecuteTime": {
     "end_time": "2023-11-25T20:44:50.394673318Z",
     "start_time": "2023-11-25T20:44:10.239950468Z"
    }
   },
   "id": "24f74633c3c5623c"
  },
  {
   "cell_type": "code",
   "execution_count": 15,
   "outputs": [],
   "source": [],
   "metadata": {
    "collapsed": false,
    "ExecuteTime": {
     "end_time": "2023-11-25T20:40:41.191939009Z",
     "start_time": "2023-11-25T20:40:08.491547639Z"
    }
   },
   "id": "febd701e881501b1"
  },
  {
   "cell_type": "code",
   "execution_count": 28,
   "outputs": [],
   "source": [
    "crop_pcd=o3d.io.read_point_cloud(\"/home/omar/TUM/Masterarbeit/Codes/cropped_1.ply\")\n",
    "utils.visualize(crop_pcd)"
   ],
   "metadata": {
    "collapsed": false,
    "ExecuteTime": {
     "end_time": "2023-11-23T12:29:17.470679579Z",
     "start_time": "2023-11-23T12:29:17.427717028Z"
    }
   },
   "id": "2f86550a0f61bd7c"
  },
  {
   "cell_type": "code",
   "execution_count": 9,
   "outputs": [
    {
     "ename": "TypeError",
     "evalue": "'open3d.cuda.pybind.geometry.PointCloud' object is not subscriptable",
     "output_type": "error",
     "traceback": [
      "\u001B[0;31m---------------------------------------------------------------------------\u001B[0m",
      "\u001B[0;31mTypeError\u001B[0m                                 Traceback (most recent call last)",
      "Cell \u001B[0;32mIn[9], line 5\u001B[0m\n\u001B[1;32m      3\u001B[0m t\u001B[38;5;241m=\u001B[39m[ \u001B[38;5;241m1.18\u001B[39m ,\u001B[38;5;241m1.9\u001B[39m, \u001B[38;5;241m4.88\u001B[39m ,\u001B[38;5;241m-\u001B[39m\u001B[38;5;241m29.67\u001B[39m, \u001B[38;5;241m72.05\u001B[39m ,\u001B[38;5;241m10.12\u001B[39m,\u001B[38;5;241m-\u001B[39m\u001B[38;5;241m0.12\u001B[39m]\n\u001B[1;32m      4\u001B[0m gt\u001B[38;5;241m=\u001B[39mtranslate_boxes_to_open3d_instance(t)\n\u001B[0;32m----> 5\u001B[0m \u001B[43mdraw_scenes\u001B[49m\u001B[43m(\u001B[49m\u001B[43mreal_pcd\u001B[49m\u001B[43m,\u001B[49m\u001B[43mgt\u001B[49m\u001B[43m)\u001B[49m\n\u001B[1;32m      6\u001B[0m \u001B[38;5;28mprint\u001B[39m(gt)\n",
      "Cell \u001B[0;32mIn[2], line 58\u001B[0m, in \u001B[0;36mdraw_scenes\u001B[0;34m(points, gt_boxes, ref_boxes, ref_labels, ref_scores, point_colors, draw_origin)\u001B[0m\n\u001B[1;32m     55\u001B[0m     vis\u001B[38;5;241m.\u001B[39madd_geometry(axis_pcd)\n\u001B[1;32m     57\u001B[0m pts \u001B[38;5;241m=\u001B[39m open3d\u001B[38;5;241m.\u001B[39mgeometry\u001B[38;5;241m.\u001B[39mPointCloud()\n\u001B[0;32m---> 58\u001B[0m pts\u001B[38;5;241m.\u001B[39mpoints \u001B[38;5;241m=\u001B[39m open3d\u001B[38;5;241m.\u001B[39mutility\u001B[38;5;241m.\u001B[39mVector3dVector(\u001B[43mpoints\u001B[49m\u001B[43m[\u001B[49m\u001B[43m:\u001B[49m\u001B[43m,\u001B[49m\u001B[43m \u001B[49m\u001B[43m:\u001B[49m\u001B[38;5;241;43m3\u001B[39;49m\u001B[43m]\u001B[49m)\n\u001B[1;32m     60\u001B[0m vis\u001B[38;5;241m.\u001B[39madd_geometry(pts)\n\u001B[1;32m     61\u001B[0m \u001B[38;5;28;01mif\u001B[39;00m point_colors \u001B[38;5;129;01mis\u001B[39;00m \u001B[38;5;28;01mNone\u001B[39;00m:\n",
      "\u001B[0;31mTypeError\u001B[0m: 'open3d.cuda.pybind.geometry.PointCloud' object is not subscriptable"
     ]
    }
   ],
   "source": [
    "data_path=\"/home/omar/TUM/Masterarbeit/Data/m1695833/Sim2RealDistributionAlignedDataset/real/data/pcl\"\n",
    "real_pcd= o3d.io.read_point_cloud(data_path+\"/000000.pcd\")\n",
    "t=[ 1.18 ,1.9, 4.88 ,-29.67, 72.05 ,10.12,-0.12]\n",
    "gt=translate_boxes_to_open3d_instance(t)\n",
    "draw_scenes(real_pcd,gt)\n",
    "print(gt)"
   ],
   "metadata": {
    "collapsed": false,
    "ExecuteTime": {
     "end_time": "2023-11-24T21:04:06.978546640Z",
     "start_time": "2023-11-24T21:04:06.796356507Z"
    }
   },
   "id": "9e2cddda97f0811e"
  },
  {
   "cell_type": "code",
   "execution_count": null,
   "outputs": [],
   "source": [],
   "metadata": {
    "collapsed": false
   },
   "id": "2a0d88b64ad0027d"
  }
 ],
 "metadata": {
  "kernelspec": {
   "display_name": "Python 3",
   "language": "python",
   "name": "python3"
  },
  "language_info": {
   "codemirror_mode": {
    "name": "ipython",
    "version": 2
   },
   "file_extension": ".py",
   "mimetype": "text/x-python",
   "name": "python",
   "nbconvert_exporter": "python",
   "pygments_lexer": "ipython2",
   "version": "2.7.6"
  }
 },
 "nbformat": 4,
 "nbformat_minor": 5
}
